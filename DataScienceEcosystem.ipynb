{
 "cells": [
  {
   "cell_type": "markdown",
   "id": "fac70516",
   "metadata": {},
   "source": [
    "# Data Science Tools and Ecosystem"
   ]
  },
  {
   "cell_type": "markdown",
   "id": "cc981e0a",
   "metadata": {},
   "source": [
    "In this notebook, Data Science Tools and Ecosystem are summarized."
   ]
  },
  {
   "cell_type": "markdown",
   "id": "73b38934",
   "metadata": {},
   "source": [
    "Some of the popular languages that Data Scientists use are:\n",
    "ordered list\n",
    "python,\n",
    "R,\n",
    "SQL"
   ]
  },
  {
   "cell_type": "markdown",
   "id": "25942ddf",
   "metadata": {},
   "source": [
    "Some of the commonly used libraries used by Data Scientists include:\n",
    "- ordered list = \n",
    "- pandas,\n",
    "- numpy,\n",
    "- matplotlib,\n",
    "- seaborn,\n",
    "- scikit-learn"
   ]
  },
  {
   "cell_type": "markdown",
   "id": "a36dc63a",
   "metadata": {},
   "source": [
    "| Data Science Tools |\n",
    "|--------------------|\n",
    "| Jupyter Notebook   |\n",
    "| RStudio            |\n",
    "| Apache Zeppelin    |\n"
   ]
  },
  {
   "cell_type": "markdown",
   "id": "82a094ef",
   "metadata": {},
   "source": [
    "### Below are a few examples of evaluating arithmetic expressions in Python.\n"
   ]
  },
  {
   "cell_type": "code",
   "execution_count": 1,
   "id": "8c9694e4",
   "metadata": {},
   "outputs": [
    {
     "data": {
      "text/plain": [
       "17"
      ]
     },
     "execution_count": 1,
     "metadata": {},
     "output_type": "execute_result"
    }
   ],
   "source": [
    "# This is a simple arithmetic expression to multiply then add integers\n",
    "result = (3 * 4) + 5\n",
    "result\n"
   ]
  },
  {
   "cell_type": "code",
   "execution_count": 2,
   "id": "94c998ff",
   "metadata": {},
   "outputs": [
    {
     "data": {
      "text/plain": [
       "3.3333333333333335"
      ]
     },
     "execution_count": 2,
     "metadata": {},
     "output_type": "execute_result"
    }
   ],
   "source": [
    "# This will convert 200 minutes to hours by dividing by 60\n",
    "minutes = 200\n",
    "hours = minutes / 60\n",
    "hours\n"
   ]
  },
  {
   "cell_type": "markdown",
   "id": "157ff926",
   "metadata": {},
   "source": [
    "**Objectives:**\n",
    "\n",
    "- Understand the basics of data science and its applications.\n",
    "- Learn popular languages and tools used in Data Science like Python, R, SQL.\n",
    "- Explore key libraries and frameworks for data analysis, visualization, and machine learning.\n",
    "- Gain insights into the data science workflow from data collection to model deployment.\n",
    "- Recognize the importance of data ethics and responsible AI.\n"
   ]
  },
  {
   "cell_type": "markdown",
   "id": "62b67b0f",
   "metadata": {},
   "source": [
    "## Author\n",
    "Adir\n"
   ]
  },
  {
   "cell_type": "code",
   "execution_count": null,
   "id": "b35ebe92",
   "metadata": {},
   "outputs": [],
   "source": []
  }
 ],
 "metadata": {
  "kernelspec": {
   "display_name": "Python 3 (ipykernel)",
   "language": "python",
   "name": "python3"
  },
  "language_info": {
   "codemirror_mode": {
    "name": "ipython",
    "version": 3
   },
   "file_extension": ".py",
   "mimetype": "text/x-python",
   "name": "python",
   "nbconvert_exporter": "python",
   "pygments_lexer": "ipython3",
   "version": "3.11.4"
  }
 },
 "nbformat": 4,
 "nbformat_minor": 5
}
